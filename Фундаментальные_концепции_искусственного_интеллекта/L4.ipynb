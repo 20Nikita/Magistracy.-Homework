{
 "cells": [
  {
   "cell_type": "code",
   "execution_count": 1,
   "id": "a9592ee6",
   "metadata": {},
   "outputs": [],
   "source": [
    "import optuna"
   ]
  },
  {
   "cell_type": "markdown",
   "id": "cc79fd60",
   "metadata": {},
   "source": [
    "# Часть 1. Поиск минимума функции при помощи optuna"
   ]
  },
  {
   "cell_type": "markdown",
   "id": "0f131cde",
   "metadata": {},
   "source": [
    "### Функция Розенброка"
   ]
  },
  {
   "cell_type": "markdown",
   "id": "19f82226",
   "metadata": {},
   "source": [
    "$$((1 - x) ^ 2 + 100 * (y - x * x) ^ 2 )$$"
   ]
  },
  {
   "cell_type": "code",
   "execution_count": 2,
   "id": "75435a2e",
   "metadata": {},
   "outputs": [],
   "source": [
    "def f1(x,y):\n",
    "    return ((1 - x) ** 2 + 100 * (y - x * x) ** 2 )\n",
    "def objective1(trial):\n",
    "    x = trial.suggest_float(\"x\", -10, 10)\n",
    "    y = trial.suggest_float(\"y\", -10, 10)\n",
    "    return f1(x,y)"
   ]
  },
  {
   "cell_type": "markdown",
   "id": "e6b5b391",
   "metadata": {},
   "source": [
    "### Функция Била "
   ]
  },
  {
   "cell_type": "markdown",
   "id": "e22c301d",
   "metadata": {},
   "source": [
    "$$(1.5 - x + x*y)^2 + (2.25 - x + x*y^2)^2 + (2.625 - x + x*y^3)^2$$"
   ]
  },
  {
   "cell_type": "code",
   "execution_count": 3,
   "id": "88b1f59d",
   "metadata": {},
   "outputs": [],
   "source": [
    "def f2(x,y):\n",
    "    return (1.5 - x + x*y)**2 + (2.25 - x + x*y**2)**2 + (2.625 - x + x*y**3)**2\n",
    "def objective2(trial):\n",
    "    x = trial.suggest_float(\"x\", -10, 10)\n",
    "    y = trial.suggest_float(\"y\", -4.5, 4.5)\n",
    "    return f2(x,y)"
   ]
  },
  {
   "cell_type": "code",
   "execution_count": 4,
   "id": "f0ea2eaa",
   "metadata": {
    "scrolled": true
   },
   "outputs": [],
   "source": [
    "optuna.logging.disable_default_handler() #Отключить логирование\n",
    "study1 = optuna.create_study()\n",
    "study1.optimize(objective1, n_trials=400)\n",
    "study2 = optuna.create_study()\n",
    "study2.optimize(objective2, n_trials=400)"
   ]
  },
  {
   "cell_type": "code",
   "execution_count": 5,
   "id": "a782f65d",
   "metadata": {},
   "outputs": [
    {
     "name": "stdout",
     "output_type": "stream",
     "text": [
      "###### Результат на функции Розенброка ######\n",
      "Найденные    x: 0.797 y: 0.612, F(x,y): 0.092\n",
      "Оптимальные  x: 1.000 y: 1.000, F(x,y): 0.000\n",
      "Разница      x: 0.203 y: 0.388, F(x,y): 0.092\n"
     ]
    }
   ],
   "source": [
    "best_params = study1.best_params\n",
    "found_x = best_params[\"x\"]\n",
    "found_y = best_params[\"y\"]\n",
    "print(\"###### Результат на функции Розенброка ######\")\n",
    "print(\"Найденные    x: {:0.3f} y: {:0.3f}, F(x,y): {:0.3f}\".format(found_x, found_y, f1(found_x,found_y)))\n",
    "print(\"Оптимальные  x: {:0.3f} y: {:0.3f}, F(x,y): {:0.3f}\".format(1, 1, f1(1,1)))\n",
    "print(\"Разница      x: {:0.3f} y: {:0.3f}, F(x,y): {:0.3f}\".format(abs(found_x-1), abs(found_y-1), abs(f1(found_x,found_y)-f1(1,1))))"
   ]
  },
  {
   "cell_type": "code",
   "execution_count": 6,
   "id": "4200a984",
   "metadata": {},
   "outputs": [
    {
     "name": "stdout",
     "output_type": "stream",
     "text": [
      "####### Результат на функции Била #######\n",
      "Найденные    x: 3.021 y: 0.508, F(x,y): 0.000\n",
      "Оптимальные  x: 3.000 y: 0.500, F(x,y): 0.000\n",
      "Разница      x: 0.021 y: 0.008, F(x,y): 0.000\n"
     ]
    }
   ],
   "source": [
    "best_params = study2.best_params\n",
    "found_x = best_params[\"x\"]\n",
    "found_y = best_params[\"y\"]\n",
    "print(\"####### Результат на функции Била #######\")\n",
    "print(\"Найденные    x: {:0.3f} y: {:0.3f}, F(x,y): {:0.3f}\".format(found_x, found_y, f2(found_x,found_y)))\n",
    "print(\"Оптимальные  x: {:0.3f} y: {:0.3f}, F(x,y): {:0.3f}\".format(3, 0.5, f2(3,0.5)))\n",
    "print(\"Разница      x: {:0.3f} y: {:0.3f}, F(x,y): {:0.3f}\".format(abs(found_x-3), abs(found_y-0.5), abs(f2(found_x,found_y)-f2(3,0.5))))"
   ]
  },
  {
   "cell_type": "markdown",
   "id": "f237fd5d",
   "metadata": {},
   "source": [
    "# Часть 2. Решение новой задачи из scikit-learn моделью из scikit-learn, используя optuna для поиска гиперпараметров"
   ]
  },
  {
   "cell_type": "code",
   "execution_count": 7,
   "id": "f81a2d4c",
   "metadata": {},
   "outputs": [],
   "source": [
    "import sklearn.datasets\n",
    "from sklearn.model_selection import train_test_split\n",
    "from sklearn.neighbors import KNeighborsClassifier\n",
    "import optuna\n",
    "\n",
    "SEED = 0"
   ]
  },
  {
   "cell_type": "markdown",
   "id": "161c3de4",
   "metadata": {},
   "source": [
    "## Набор данных wine - классификация на 3 класса с 13 признаками на 178 элемента выборки\n",
    "## Модель KNeighborsClassifier - классификатор, реализующий голосование k ближайших соседей"
   ]
  },
  {
   "cell_type": "code",
   "execution_count": 8,
   "id": "a16e032f",
   "metadata": {},
   "outputs": [],
   "source": [
    "def objective(trial):\n",
    "    data, target = sklearn.datasets.load_wine(return_X_y=True) #Набор данных о вине (классификация на 3 класса).\n",
    "    train_x, valid_x, train_y, valid_y = train_test_split(data, target, test_size=0.20)\n",
    "    \n",
    "    n_neighbors = trial.suggest_int(\"n_neighbors\", 1, 10)\n",
    "    algorithm = trial.suggest_categorical(\"algorithm\", [\"auto\", \"ball_tree\", \"kd_tree\", \"brute\"])\n",
    "    leaf_size = trial.suggest_int(\"leaf_size\", 1, 100, log=True)\n",
    "    \n",
    "    neigh = KNeighborsClassifier(n_neighbors=n_neighbors, algorithm=algorithm, leaf_size=leaf_size)\n",
    "    neigh.fit(train_x, train_y)\n",
    "    KNeighborsClassifier()\n",
    "    \n",
    "    return neigh.score(valid_x,valid_y)"
   ]
  },
  {
   "cell_type": "code",
   "execution_count": 11,
   "id": "c719b798",
   "metadata": {
    "scrolled": true
   },
   "outputs": [],
   "source": [
    "study = optuna.create_study(\n",
    "    direction=\"maximize\",\n",
    "    sampler=optuna.samplers.TPESampler(seed=SEED),\n",
    "    pruner=optuna.pruners.MedianPruner(n_warmup_steps=100),\n",
    ")\n",
    "study.optimize(objective, n_trials=1000)"
   ]
  },
  {
   "cell_type": "code",
   "execution_count": 12,
   "id": "ceda3219",
   "metadata": {},
   "outputs": [
    {
     "name": "stdout",
     "output_type": "stream",
     "text": [
      "Лучшими score = 0.944, достигнутый при параметрах: \n",
      "n_neighbors = 1, \n",
      "algorithm = \"brute\", \n",
      "leaf_size = 18.\n"
     ]
    }
   ],
   "source": [
    "best_params = study.best_params\n",
    "n_neighbors = best_params[\"n_neighbors\"]\n",
    "algorithm = best_params[\"algorithm\"]\n",
    "leaf_size = best_params[\"leaf_size\"]\n",
    "print(\"Лучшими score = {:0.3f}, достигнутый при параметрах: \\nn_neighbors = {}, \\nalgorithm = \\\"{}\\\", \\nleaf_size = {}.\".format(\n",
    "      study.best_trial.values[0], n_neighbors, algorithm,leaf_size))"
   ]
  },
  {
   "cell_type": "code",
   "execution_count": null,
   "id": "bc0b3c16",
   "metadata": {},
   "outputs": [],
   "source": []
  }
 ],
 "metadata": {
  "kernelspec": {
   "display_name": "Python 3 (ipykernel)",
   "language": "python",
   "name": "python3"
  },
  "language_info": {
   "codemirror_mode": {
    "name": "ipython",
    "version": 3
   },
   "file_extension": ".py",
   "mimetype": "text/x-python",
   "name": "python",
   "nbconvert_exporter": "python",
   "pygments_lexer": "ipython3",
   "version": "3.9.2rc1"
  }
 },
 "nbformat": 4,
 "nbformat_minor": 5
}
