{
 "cells": [
  {
   "cell_type": "code",
   "execution_count": 1,
   "metadata": {},
   "outputs": [],
   "source": [
    "import pandas as pd\n",
    "import numpy as np\n",
    "import random as rd\n",
    "from sklearn.decomposition import PCA\n",
    "from sklearn import preprocessing\n",
    "import matplotlib.pyplot as plt\n"
   ]
  },
  {
   "cell_type": "code",
   "execution_count": 2,
   "metadata": {},
   "outputs": [],
   "source": [
    "genes = [\"gen\"+str(i) for i in range(1,101)]\n",
    "wt = [\"wt\"+str(i) for i in range(1,6)]\n",
    "ko = [\"ko\"+str(i) for i in range(1,6)]\n",
    "\n",
    "data = pd.DataFrame(columns=[*wt, *ko], index=genes)"
   ]
  },
  {
   "cell_type": "code",
   "execution_count": 3,
   "metadata": {},
   "outputs": [],
   "source": [
    "for gene in data.index:\n",
    "    data.loc[gene,\"wt1\":\"wt5\"] = np.random.poisson(lam = rd.randrange(10,1000),size = 5)\n",
    "    data.loc[gene,\"ko1\":\"ko5\"] = np.random.poisson(lam = rd.randrange(10,1000),size = 5)"
   ]
  },
  {
   "cell_type": "code",
   "execution_count": 4,
   "metadata": {},
   "outputs": [
    {
     "data": {
      "text/html": [
       "<div>\n",
       "<style scoped>\n",
       "    .dataframe tbody tr th:only-of-type {\n",
       "        vertical-align: middle;\n",
       "    }\n",
       "\n",
       "    .dataframe tbody tr th {\n",
       "        vertical-align: top;\n",
       "    }\n",
       "\n",
       "    .dataframe thead th {\n",
       "        text-align: right;\n",
       "    }\n",
       "</style>\n",
       "<table border=\"1\" class=\"dataframe\">\n",
       "  <thead>\n",
       "    <tr style=\"text-align: right;\">\n",
       "      <th></th>\n",
       "      <th>wt1</th>\n",
       "      <th>wt2</th>\n",
       "      <th>wt3</th>\n",
       "      <th>wt4</th>\n",
       "      <th>wt5</th>\n",
       "      <th>ko1</th>\n",
       "      <th>ko2</th>\n",
       "      <th>ko3</th>\n",
       "      <th>ko4</th>\n",
       "      <th>ko5</th>\n",
       "    </tr>\n",
       "  </thead>\n",
       "  <tbody>\n",
       "    <tr>\n",
       "      <th>gen1</th>\n",
       "      <td>88</td>\n",
       "      <td>94</td>\n",
       "      <td>91</td>\n",
       "      <td>78</td>\n",
       "      <td>88</td>\n",
       "      <td>901</td>\n",
       "      <td>858</td>\n",
       "      <td>915</td>\n",
       "      <td>875</td>\n",
       "      <td>940</td>\n",
       "    </tr>\n",
       "    <tr>\n",
       "      <th>gen2</th>\n",
       "      <td>1032</td>\n",
       "      <td>947</td>\n",
       "      <td>1011</td>\n",
       "      <td>970</td>\n",
       "      <td>975</td>\n",
       "      <td>655</td>\n",
       "      <td>673</td>\n",
       "      <td>703</td>\n",
       "      <td>629</td>\n",
       "      <td>687</td>\n",
       "    </tr>\n",
       "    <tr>\n",
       "      <th>gen3</th>\n",
       "      <td>443</td>\n",
       "      <td>441</td>\n",
       "      <td>435</td>\n",
       "      <td>434</td>\n",
       "      <td>415</td>\n",
       "      <td>161</td>\n",
       "      <td>195</td>\n",
       "      <td>190</td>\n",
       "      <td>164</td>\n",
       "      <td>187</td>\n",
       "    </tr>\n",
       "    <tr>\n",
       "      <th>gen4</th>\n",
       "      <td>353</td>\n",
       "      <td>344</td>\n",
       "      <td>364</td>\n",
       "      <td>362</td>\n",
       "      <td>350</td>\n",
       "      <td>18</td>\n",
       "      <td>19</td>\n",
       "      <td>25</td>\n",
       "      <td>32</td>\n",
       "      <td>26</td>\n",
       "    </tr>\n",
       "    <tr>\n",
       "      <th>gen5</th>\n",
       "      <td>519</td>\n",
       "      <td>512</td>\n",
       "      <td>460</td>\n",
       "      <td>537</td>\n",
       "      <td>511</td>\n",
       "      <td>89</td>\n",
       "      <td>90</td>\n",
       "      <td>91</td>\n",
       "      <td>83</td>\n",
       "      <td>87</td>\n",
       "    </tr>\n",
       "  </tbody>\n",
       "</table>\n",
       "</div>"
      ],
      "text/plain": [
       "       wt1  wt2   wt3  wt4  wt5  ko1  ko2  ko3  ko4  ko5\n",
       "gen1    88   94    91   78   88  901  858  915  875  940\n",
       "gen2  1032  947  1011  970  975  655  673  703  629  687\n",
       "gen3   443  441   435  434  415  161  195  190  164  187\n",
       "gen4   353  344   364  362  350   18   19   25   32   26\n",
       "gen5   519  512   460  537  511   89   90   91   83   87"
      ]
     },
     "execution_count": 4,
     "metadata": {},
     "output_type": "execute_result"
    }
   ],
   "source": [
    "data.head()"
   ]
  },
  {
   "cell_type": "code",
   "execution_count": 5,
   "metadata": {},
   "outputs": [],
   "source": [
    "scaled_data = preprocessing.scale(data.T)"
   ]
  },
  {
   "cell_type": "code",
   "execution_count": 6,
   "metadata": {},
   "outputs": [],
   "source": [
    "pca = PCA()\n",
    "pca.fit(scaled_data)\n",
    "pca_datd = pca.transform(scaled_data)"
   ]
  },
  {
   "cell_type": "code",
   "execution_count": 7,
   "metadata": {},
   "outputs": [],
   "source": [
    "per_var = np.round(pca.explained_variance_ratio_ * 100, decimals=1)\n",
    "labels = [\"PC\"+str(x) for x in range(1,len(per_var)+1)]"
   ]
  },
  {
   "cell_type": "code",
   "execution_count": 9,
   "metadata": {},
   "outputs": [
    {
     "data": {
      "image/png": "[encoded data removed]",
      "text/plain": [
       "<Figure size 432x288 with 1 Axes>"
      ]
     },
     "metadata": {
      "needs_background": "light"
     },
     "output_type": "display_data"
    }
   ],
   "source": [
    "plt.bar(x=range(1,len(per_var)+1),height=per_var,tick_label = labels)\n",
    "plt.show()"
   ]
  }
 ],
 "metadata": {
  "kernelspec": {
   "display_name": "Python 3.10.4 64-bit",
   "language": "python",
   "name": "python3"
  },
  "language_info": {
   "codemirror_mode": {
    "name": "ipython",
    "version": 3
   },
   "file_extension": ".py",
   "mimetype": "text/x-python",
   "name": "python",
   "nbconvert_exporter": "python",
   "pygments_lexer": "ipython3",
   "version": "3.10.4"
  },
  "orig_nbformat": 4,
  "vscode": {
   "interpreter": {
    "hash": "301a17a29b57d3836b7901af1621afd6d2b1f2298b9c7949191147cf2fea93e3"
   }
  }
 },
 "nbformat": 4,
 "nbformat_minor": 2
}
