{
 "cells": [
  {
   "cell_type": "code",
   "execution_count": 1,
   "id": "ddd755a0",
   "metadata": {},
   "outputs": [
    {
     "name": "stdout",
     "output_type": "stream",
     "text": [
      "<Managed Device 0>\n"
     ]
    }
   ],
   "source": [
    "from numba import cuda\n",
    "import numpy as np\n",
    "import time\n",
    "print(cuda.gpus)"
   ]
  },
  {
   "cell_type": "markdown",
   "id": "02f344fe",
   "metadata": {},
   "source": [
    "# Реализация алгоритма градиентного спуска на процессоре"
   ]
  },
  {
   "cell_type": "markdown",
   "id": "27e861c4",
   "metadata": {},
   "source": [
    "### Функция Розенброка $((1 - x) ^ 2 + 100 * (y - x * x) ^ 2 )$"
   ]
  },
  {
   "cell_type": "code",
   "execution_count": 2,
   "id": "c6b26af6",
   "metadata": {},
   "outputs": [],
   "source": [
    "def f1(x):\n",
    "    return ((1 - x[0]) ** 2 + 100 * (x[1] - x[0] * x[0]) ** 2 )\n",
    "def df1(x):\n",
    "    return np.array([2 * x[0] - 2 + 400 * x[0] * (x[0] * x[0] - x[1]),\n",
    "                      200 * (x[1] - x[0] * x[0])])"
   ]
  },
  {
   "cell_type": "code",
   "execution_count": 3,
   "id": "879d9fa8",
   "metadata": {},
   "outputs": [],
   "source": [
    "def my_gd(X0, lr = 0.001, N_it = 3000000):\n",
    "    model = X0.copy()\n",
    "    for i in range(N_it):\n",
    "        model -= lr * df1(model)\n",
    "    return model"
   ]
  },
  {
   "cell_type": "code",
   "execution_count": 4,
   "id": "6e226ef4",
   "metadata": {},
   "outputs": [
    {
     "name": "stdout",
     "output_type": "stream",
     "text": [
      "Время работы 10.135204792022705 секунд\n",
      "Начальная точка [2. 2.] \t\t\tзначение функции в ней 401.0\n",
      "Найденный оптимум [1. 1.] \t\t\tзначение функции в нем 2.0850579801122868e-26\n",
      "Теоритический оптимум [1, 1] \t\t\tзначение функции в нем 0\n",
      "Разница x [1.44328993e-13 2.89102076e-13] \tf(x) 2.0850579801122868e-26\n"
     ]
    }
   ],
   "source": [
    "X0 = np.array([2.0,2.0])\n",
    "\n",
    "start_time = time.time()\n",
    "param = my_gd(X0, lr = 0.001)\n",
    "time1 = time.time() - start_time\n",
    "\n",
    "print(\"Время работы %s секунд\" % (time1))\n",
    "print(\"Начальная точка\", X0, \"\\t\\t\\tзначение функции в ней\", f1(X0))\n",
    "print(\"Найденный оптимум\",param, \"\\t\\t\\tзначение функции в нем\",f1(param))\n",
    "print(\"Теоритический оптимум\",[1,1], \"\\t\\t\\tзначение функции в нем\",f1([1,1]))\n",
    "print(\"Разница x\",abs(param - [1,1]), \"\\tf(x)\",abs(f1(param) -f1([1,1])))"
   ]
  },
  {
   "cell_type": "markdown",
   "id": "aa99fdee",
   "metadata": {},
   "source": [
    "# Реализация алгоритма градиентного спуска на cuda с помощью numba"
   ]
  },
  {
   "cell_type": "code",
   "execution_count": 5,
   "id": "b0a9d873",
   "metadata": {},
   "outputs": [],
   "source": [
    "@cuda.jit\n",
    "def my_gd_cuda(X0, lr, N_it):\n",
    "    tx = cuda.threadIdx.x\n",
    "    for i in range(N_it):\n",
    "        if tx == 0:\n",
    "            X0[tx] -= lr * (2.0 * X0[0] - 2.0 + 400.0 * X0[0] * (X0[0] * X0[0] - X0[1]))\n",
    "        else:\n",
    "            X0[tx] -= lr * (200.0 * (X0[1] - X0[0] * X0[0]))"
   ]
  },
  {
   "cell_type": "code",
   "execution_count": 6,
   "id": "98903f4e",
   "metadata": {},
   "outputs": [
    {
     "name": "stderr",
     "output_type": "stream",
     "text": [
      "d:\\python39\\lib\\site-packages\\numba\\cuda\\dispatcher.py:488: NumbaPerformanceWarning: \u001b[1mGrid size 1 will likely result in GPU under-utilization due to low occupancy.\u001b[0m\n",
      "  warn(NumbaPerformanceWarning(msg))\n",
      "d:\\python39\\lib\\site-packages\\numba\\cuda\\cudadrv\\devicearray.py:885: NumbaPerformanceWarning: \u001b[1mHost array used in CUDA kernel will incur copy overhead to/from device.\u001b[0m\n",
      "  warn(NumbaPerformanceWarning(msg))\n"
     ]
    },
    {
     "name": "stdout",
     "output_type": "stream",
     "text": [
      "Время работы 1.745039701461792 секунд\n",
      "Начальная точка [2.0, 2.0] \t\t\tзначение функции в ней 401.0\n",
      "Найденный оптимум [1. 1.] \t\t\tзначение функции в нем 2.0786534156380237e-26\n",
      "Теоритический оптимум [1, 1] \t\t\tзначение функции в нем 0\n",
      "Разница x [1.44106949e-13 2.88657986e-13] \tf(x) 2.0850579801122868e-26\n"
     ]
    }
   ],
   "source": [
    "import numpy\n",
    "X0 = np.array([2.0,2.0])\n",
    "lr = 0.001\n",
    "N_it = 3000000\n",
    "\n",
    "start_time = time.time()\n",
    "my_gd_cuda[1, 2](X0, lr,N_it)\n",
    "time2 = time.time() - start_time\n",
    "\n",
    "print(\"Время работы %s секунд\" % (time2))\n",
    "print(\"Начальная точка\", [2.0,2.0], \"\\t\\t\\tзначение функции в ней\", f1([2.0,2.0]))\n",
    "print(\"Найденный оптимум\",X0, \"\\t\\t\\tзначение функции в нем\",f1(X0))\n",
    "print(\"Теоритический оптимум\",[1,1], \"\\t\\t\\tзначение функции в нем\",f1([1,1]))\n",
    "print(\"Разница x\",abs(X0 - [1,1]), \"\\tf(x)\",abs(f1(param) -f1([1,1])))"
   ]
  },
  {
   "cell_type": "code",
   "execution_count": 7,
   "id": "40d092a0",
   "metadata": {},
   "outputs": [
    {
     "name": "stdout",
     "output_type": "stream",
     "text": [
      "Достигнуто ускорение в 5.808 раз\n"
     ]
    }
   ],
   "source": [
    "print(\"Достигнуто ускорение в {:0.3f} раз\".format(time1/time2))"
   ]
  }
 ],
 "metadata": {
  "kernelspec": {
   "display_name": "Python 3 (ipykernel)",
   "language": "python",
   "name": "python3"
  },
  "language_info": {
   "codemirror_mode": {
    "name": "ipython",
    "version": 3
   },
   "file_extension": ".py",
   "mimetype": "text/x-python",
   "name": "python",
   "nbconvert_exporter": "python",
   "pygments_lexer": "ipython3",
   "version": "3.9.2rc1"
  }
 },
 "nbformat": 4,
 "nbformat_minor": 5
}
