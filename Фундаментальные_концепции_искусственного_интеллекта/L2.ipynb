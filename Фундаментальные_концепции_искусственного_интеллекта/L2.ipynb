{
 "cells": [
  {
   "cell_type": "code",
   "execution_count": 1,
   "id": "b7a2761d",
   "metadata": {},
   "outputs": [],
   "source": [
    "import pygmo"
   ]
  },
  {
   "cell_type": "markdown",
   "id": "86f1a53b",
   "metadata": {},
   "source": [
    "# Функции для оптимизации"
   ]
  },
  {
   "cell_type": "code",
   "execution_count": 2,
   "id": "8403ba03",
   "metadata": {},
   "outputs": [],
   "source": [
    "class Optimization:\n",
    "\n",
    "    def __init__(self,\n",
    "                 Func: str,\n",
    "                 x_min: float,\n",
    "                 x_max: float,\n",
    "                 y_min: float,\n",
    "                 y_max: float):\n",
    "\n",
    "        # Задайте входные аргументы как атрибуты, представляющие границы проблемы для обеих проектных переменных.\n",
    "        self.Func = Func\n",
    "        self.x_min = x_min\n",
    "        self.x_max = x_max\n",
    "        self.y_min = y_min\n",
    "        self.y_max = y_max\n",
    "\n",
    "    def get_bounds(self):\n",
    "        return ([self.x_min, self.y_min], [self.x_max, self.y_max])\n",
    "\n",
    "    def fitness(self, x):\n",
    "        if self.Func == \"x^2\":\n",
    "            function_value = x[0]**2 + x[1]**2\n",
    "        elif self.Func == \"Розенброк\":\n",
    "            function_value = ((1 - x[0]) ** 2 + 100 * (x[1] - x[0] * x[0]) ** 2 )\n",
    "        elif self.Func == \"Бил\":\n",
    "            function_value = (1.5 - x[0] + x[0]*x[1])**2 + (2.25 - x[0] + x[0]*x[1]**2)**2 + (2.625 - x[0] + x[0]*x[1]**3)**2\n",
    "        return [function_value]"
   ]
  },
  {
   "cell_type": "code",
   "execution_count": 3,
   "id": "a3af900f",
   "metadata": {},
   "outputs": [],
   "source": [
    "Rozenbrok = Optimization(\"Розенброк\",-100.0, 100.0, -100.0, 100.0)\n",
    "Bil = Optimization(\"Бил\",-4.5, 4.5, -4.5, 4.5)"
   ]
  },
  {
   "cell_type": "markdown",
   "id": "6e677956",
   "metadata": {},
   "source": [
    " ## Поиск минимума функции методом дифференциальной эволюции (DE)"
   ]
  },
  {
   "cell_type": "code",
   "execution_count": 4,
   "id": "626d7620",
   "metadata": {},
   "outputs": [],
   "source": [
    "def de(problem,minn):\n",
    "    prob = pygmo.problem(problem)\n",
    "    # Создать алгоритм решения\n",
    "    number_of_generations = 1\n",
    "    current_seed = 171015\n",
    "    de_algo = pygmo.de(gen=number_of_generations, seed=current_seed)\n",
    "    algo = pygmo.algorithm(de_algo)\n",
    "    # Создать популяцию\n",
    "    pop_size = 1000\n",
    "    pop = pygmo.population(prob, size=pop_size, seed=current_seed)\n",
    "    # Запустить эволюцию\n",
    "    number_of_evolutions = 100\n",
    "    for i in range(number_of_evolutions):\n",
    "        pop = algo.evolve(pop)\n",
    "    print('\\n########### ПИЧАТЬ ЛУЧШЕГО РЕЗУЛЬТАТА ###########\\n')\n",
    "    print('Значение пригодности (= функция): ', pop.champion_f)\n",
    "    print('Вектор переменной решения: ', pop.champion_x)\n",
    "    print('Количество оценок функций: ', pop.problem.get_fevals())\n",
    "    print('Разница относительно минимума: ', pop.champion_x - minn)"
   ]
  },
  {
   "cell_type": "markdown",
   "id": "fd8c46e0",
   "metadata": {},
   "source": [
    "### Функция Розенброка"
   ]
  },
  {
   "cell_type": "markdown",
   "id": "d1a599be",
   "metadata": {},
   "source": [
    "$$((1 - x) ^ 2 + 100 * (y - x * x) ^ 2 )$$"
   ]
  },
  {
   "cell_type": "code",
   "execution_count": 5,
   "id": "5315fffe",
   "metadata": {},
   "outputs": [
    {
     "name": "stdout",
     "output_type": "stream",
     "text": [
      "\n",
      "########### ПИЧАТЬ ЛУЧШЕГО РЕЗУЛЬТАТА ###########\n",
      "\n",
      "Значение пригодности (= функция):  [8.05379656e-07]\n",
      "Вектор переменной решения:  [0.99932064 0.9985831 ]\n",
      "Количество оценок функций:  101000\n",
      "Разница относительно минимума:  [-0.00067936 -0.0014169 ]\n"
     ]
    }
   ],
   "source": [
    "de(Rozenbrok,[1,1])"
   ]
  },
  {
   "cell_type": "markdown",
   "id": "e698435d",
   "metadata": {},
   "source": [
    "### Функция Била "
   ]
  },
  {
   "cell_type": "markdown",
   "id": "d7193173",
   "metadata": {},
   "source": [
    "$$(1.5 - x + x*y)^2 + (2.25 - x + x*y^2)^2 + (2.625 - x + x*y^3)^2$$"
   ]
  },
  {
   "cell_type": "code",
   "execution_count": 6,
   "id": "b3a80abe",
   "metadata": {},
   "outputs": [
    {
     "name": "stdout",
     "output_type": "stream",
     "text": [
      "\n",
      "########### ПИЧАТЬ ЛУЧШЕГО РЕЗУЛЬТАТА ###########\n",
      "\n",
      "Значение пригодности (= функция):  [4.31440602e-16]\n",
      "Вектор переменной решения:  [3.00000005 0.50000001]\n",
      "Количество оценок функций:  101000\n",
      "Разница относительно минимума:  [4.50917019e-08 9.03745190e-09]\n"
     ]
    }
   ],
   "source": [
    "de(Bil,[3,0.5])"
   ]
  },
  {
   "cell_type": "markdown",
   "id": "2b47786a",
   "metadata": {},
   "source": [
    " ## Поиск минимума функции методом муравьинных калоний"
   ]
  },
  {
   "cell_type": "code",
   "execution_count": 7,
   "id": "2c7b9600",
   "metadata": {},
   "outputs": [],
   "source": [
    "def gaco(problem,minn):\n",
    "    prob = pygmo.problem(problem)\n",
    "    # Создать алгоритм решения\n",
    "    number_of_generations = 1\n",
    "    current_seed = 171015\n",
    "    de_algo = pygmo.gaco(gen=number_of_generations, seed=current_seed)\n",
    "    algo = pygmo.algorithm(de_algo)\n",
    "    # Создать популяцию\n",
    "    pop_size = 1000\n",
    "    pop = pygmo.population(prob, size=pop_size, seed=current_seed)\n",
    "    # Запустить эволюцию\n",
    "    number_of_evolutions = 100\n",
    "    for i in range(number_of_evolutions):\n",
    "        pop = algo.evolve(pop)\n",
    "    print('\\n########### ПИЧАТЬ ЛУЧШЕГО РЕЗУЛЬТАТА ###########\\n')\n",
    "    print('Значение пригодности (= функция): ', pop.champion_f)\n",
    "    print('Вектор переменной решения: ', pop.champion_x)\n",
    "    print('Количество оценок функций: ', pop.problem.get_fevals())\n",
    "    print('Разница относительно минимума: ', pop.champion_x - minn)"
   ]
  },
  {
   "cell_type": "code",
   "execution_count": 8,
   "id": "496d67ae",
   "metadata": {},
   "outputs": [
    {
     "name": "stdout",
     "output_type": "stream",
     "text": [
      "\n",
      "########### ПИЧАТЬ ЛУЧШЕГО РЕЗУЛЬТАТА ###########\n",
      "\n",
      "Значение пригодности (= функция):  [0.00240048]\n",
      "Вектор переменной решения:  [1.02830855 1.0534196 ]\n",
      "Количество оценок функций:  101000\n",
      "Разница относительно минимума:  [0.02830855 0.0534196 ]\n"
     ]
    }
   ],
   "source": [
    "gaco(Rozenbrok,[1,1])"
   ]
  },
  {
   "cell_type": "code",
   "execution_count": 9,
   "id": "7ee6d630",
   "metadata": {},
   "outputs": [
    {
     "name": "stdout",
     "output_type": "stream",
     "text": [
      "\n",
      "########### ПИЧАТЬ ЛУЧШЕГО РЕЗУЛЬТАТА ###########\n",
      "\n",
      "Значение пригодности (= функция):  [1.04040153e-25]\n",
      "Вектор переменной решения:  [3.  0.5]\n",
      "Количество оценок функций:  101000\n",
      "Разница относительно минимума:  [-7.91811061e-13 -2.09054996e-13]\n"
     ]
    }
   ],
   "source": [
    "gaco(Bil,[3,0.5])"
   ]
  },
  {
   "cell_type": "code",
   "execution_count": null,
   "id": "3d44b58f",
   "metadata": {},
   "outputs": [],
   "source": []
  }
 ],
 "metadata": {
  "kernelspec": {
   "display_name": "Python [conda env:root] *",
   "language": "python",
   "name": "conda-root-py"
  },
  "language_info": {
   "codemirror_mode": {
    "name": "ipython",
    "version": 3
   },
   "file_extension": ".py",
   "mimetype": "text/x-python",
   "name": "python",
   "nbconvert_exporter": "python",
   "pygments_lexer": "ipython3",
   "version": "3.8.13"
  }
 },
 "nbformat": 4,
 "nbformat_minor": 5
}
